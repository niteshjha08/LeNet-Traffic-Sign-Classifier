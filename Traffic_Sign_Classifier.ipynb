{
 "cells": [
  {
   "cell_type": "markdown",
   "metadata": {},
   "source": [
    "# Self-Driving Car Engineer Nanodegree\n",
    "\n",
    "## Deep Learning\n",
    "\n",
    "## Project: Build a Traffic Sign Recognition Classifier\n",
    "\n",
    "In this notebook, a template is provided for you to implement your functionality in stages, which is required to successfully complete this project. If additional code is required that cannot be included in the notebook, be sure that the Python code is successfully imported and included in your submission if necessary. \n",
    "\n",
    "> **Note**: Once you have completed all of the code implementations, you need to finalize your work by exporting the iPython Notebook as an HTML document. Before exporting the notebook to html, all of the code cells need to have been run so that reviewers can see the final implementation and output. You can then export the notebook by using the menu above and navigating to  \\n\",\n",
    "    \"**File -> Download as -> HTML (.html)**. Include the finished document along with this notebook as your submission. \n",
    "\n",
    "In addition to implementing code, there is a writeup to complete. The writeup should be completed in a separate file, which can be either a markdown file or a pdf document. There is a [write up template](https://github.com/udacity/CarND-Traffic-Sign-Classifier-Project/blob/master/writeup_template.md) that can be used to guide the writing process. Completing the code template and writeup template will cover all of the [rubric points](https://review.udacity.com/#!/rubrics/481/view) for this project.\n",
    "\n",
    "The [rubric](https://review.udacity.com/#!/rubrics/481/view) contains \"Stand Out Suggestions\" for enhancing the project beyond the minimum requirements. The stand out suggestions are optional. If you decide to pursue the \"stand out suggestions\", you can include the code in this Ipython notebook and also discuss the results in the writeup file.\n",
    "\n",
    "\n",
    ">**Note:** Code and Markdown cells can be executed using the **Shift + Enter** keyboard shortcut. In addition, Markdown cells can be edited by typically double-clicking the cell to enter edit mode."
   ]
  },
  {
   "cell_type": "markdown",
   "metadata": {},
   "source": [
    "---\n",
    "## Step 0: Load The Data"
   ]
  },
  {
   "cell_type": "code",
   "execution_count": 1,
   "metadata": {},
   "outputs": [],
   "source": [
    "# Load pickled data\n",
    "import pickle\n",
    "\n",
    "# File locations\n",
    "training_file = '../data/train.p'\n",
    "validation_file= '../data/valid.p'\n",
    "testing_file = '../data/test.p'\n",
    "\n",
    "with open(training_file, mode='rb') as f:\n",
    "    train = pickle.load(f)\n",
    "with open(validation_file, mode='rb') as f:\n",
    "    valid = pickle.load(f)\n",
    "with open(testing_file, mode='rb') as f:\n",
    "    test = pickle.load(f)\n",
    "    \n",
    "X_train_orig, y_train_orig = train['features'], train['labels']\n",
    "X_valid_orig, y_valid = valid['features'], valid['labels']\n",
    "X_test_orig, y_test = test['features'], test['labels']\n",
    "\n",
    "# Keeping record prior to shuffling in tf.Session()\n",
    "y_train=y_train_orig.copy()"
   ]
  },
  {
   "cell_type": "markdown",
   "metadata": {},
   "source": [
    "---\n",
    "\n",
    "## Step 1: Dataset Summary & Exploration\n",
    "\n",
    "The pickled data is a dictionary with 4 key/value pairs:\n",
    "\n",
    "- `'features'` is a 4D array containing raw pixel data of the traffic sign images, (num examples, width, height, channels).\n",
    "- `'labels'` is a 1D array containing the label/class id of the traffic sign. The file `signnames.csv` contains id -> name mappings for each id.\n",
    "- `'sizes'` is a list containing tuples, (width, height) representing the original width and height the image.\n",
    "- `'coords'` is a list containing tuples, (x1, y1, x2, y2) representing coordinates of a bounding box around the sign in the image. **THESE COORDINATES ASSUME THE ORIGINAL IMAGE. THE PICKLED DATA CONTAINS RESIZED VERSIONS (32 by 32) OF THESE IMAGES**\n",
    "\n",
    "Complete the basic data summary below. Use python, numpy and/or pandas methods to calculate the data summary rather than hard coding the results. For example, the [pandas shape method](http://pandas.pydata.org/pandas-docs/stable/generated/pandas.DataFrame.shape.html) might be useful for calculating some of the summary results. "
   ]
  },
  {
   "cell_type": "markdown",
   "metadata": {},
   "source": [
    "### Basic Summary of the Data Set "
   ]
  },
  {
   "cell_type": "code",
   "execution_count": 2,
   "metadata": {},
   "outputs": [
    {
     "name": "stdout",
     "output_type": "stream",
     "text": [
      "Number of training examples = 34799\n",
      "Number of testing examples = 12630\n",
      "Image data shape = (32, 32, 3)\n",
      "Number of classes = 43\n"
     ]
    }
   ],
   "source": [
    "### Use python, pandas or numpy methods rather than hard coding the results\n",
    "import numpy as np\n",
    "\n",
    "# Number of training examples\n",
    "n_train = X_train_orig.shape[0]\n",
    "\n",
    "# Number of validation examples\n",
    "n_validation = X_valid_orig.shape[0]\n",
    "\n",
    "# Number of testing examples.\n",
    "n_test = X_test_orig.shape[0]\n",
    "\n",
    "# What's the shape of an traffic sign image?\n",
    "image_shape = X_train_orig[0].shape\n",
    "\n",
    "\n",
    "unique,counts=np.unique(y_train,return_counts=True)\n",
    "# How many unique classes/labels there are in the dataset.\n",
    "n_classes = len(unique)\n",
    "\n",
    "print(\"Number of training examples =\", n_train)\n",
    "print(\"Number of testing examples =\", n_test)\n",
    "print(\"Image data shape =\", image_shape)\n",
    "print(\"Number of classes =\", n_classes)"
   ]
  },
  {
   "cell_type": "markdown",
   "metadata": {},
   "source": [
    "### Include an exploratory visualization of the dataset"
   ]
  },
  {
   "cell_type": "markdown",
   "metadata": {},
   "source": [
    "Visualize the German Traffic Signs Dataset using the pickled file(s). This is open ended, suggestions include: plotting traffic sign images, plotting the count of each sign, etc. \n",
    "\n",
    "The [Matplotlib](http://matplotlib.org/) [examples](http://matplotlib.org/examples/index.html) and [gallery](http://matplotlib.org/gallery.html) pages are a great resource for doing visualizations in Python.\n",
    "\n",
    "**NOTE:** It's recommended you start with something simple first. If you wish to do more, come back to it after you've completed the rest of the sections. It can be interesting to look at the distribution of classes in the training, validation and test set. Is the distribution the same? Are there more examples of some classes than others?"
   ]
  },
  {
   "cell_type": "code",
   "execution_count": 3,
   "metadata": {},
   "outputs": [
    {
     "data": {
      "image/png": "[encoded data removed]",
      "text/plain": [
       "<matplotlib.figure.Figure at 0x7fc710352fd0>"
      ]
     },
     "metadata": {
      "needs_background": "light"
     },
     "output_type": "display_data"
    }
   ],
   "source": [
    "### Data exploration visualization\n",
    "import matplotlib.pyplot as plt\n",
    "# Visualizations will be shown in the notebook.\n",
    "%matplotlib inline\n",
    "\n",
    "plt.bar(unique,counts)\n",
    "plt.show()"
   ]
  },
  {
   "cell_type": "code",
   "execution_count": 4,
   "metadata": {},
   "outputs": [],
   "source": [
    "# Loading label and name of signs\n",
    "\n",
    "import pandas as pd\n",
    "signnames=pd.read_csv('signnames.csv')"
   ]
  },
  {
   "cell_type": "code",
   "execution_count": 5,
   "metadata": {},
   "outputs": [
    {
     "name": "stdout",
     "output_type": "stream",
     "text": [
      "Right-of-way at the next intersection\n"
     ]
    },
    {
     "data": {
      "image/png": "[encoded data removed]",
      "text/plain": [
       "<matplotlib.figure.Figure at 0x7fc6d95d8390>"
      ]
     },
     "metadata": {
      "needs_background": "light"
     },
     "output_type": "display_data"
    }
   ],
   "source": [
    "# Checking a random image and name of sign\n",
    "\n",
    "import random\n",
    "n=random.randint(0,len(X_train_orig))\n",
    "img=X_train_orig[n]\n",
    "label=y_train_orig[n]\n",
    "plt.imshow(img)\n",
    "print(signnames[signnames['ClassId']==label]['SignName'].values[0])"
   ]
  },
  {
   "cell_type": "markdown",
   "metadata": {},
   "source": [
    "----\n",
    "\n",
    "## Step 2: Design and Test a Model Architecture\n",
    "\n",
    "Design and implement a deep learning model that learns to recognize traffic signs. Train and test your model on the [German Traffic Sign Dataset](http://benchmark.ini.rub.de/?section=gtsrb&subsection=dataset).\n",
    "\n",
    "The LeNet-5 implementation shown in the [classroom](https://classroom.udacity.com/nanodegrees/nd013/parts/fbf77062-5703-404e-b60c-95b78b2f3f9e/modules/6df7ae49-c61c-4bb2-a23e-6527e69209ec/lessons/601ae704-1035-4287-8b11-e2c2716217ad/concepts/d4aca031-508f-4e0b-b493-e7b706120f81) at the end of the CNN lesson is a solid starting point. You'll have to change the number of classes and possibly the preprocessing, but aside from that it's plug and play! \n",
    "\n",
    "With the LeNet-5 solution from the lecture, you should expect a validation set accuracy of about 0.89. To meet specifications, the validation set accuracy will need to be at least 0.93. It is possible to get an even higher accuracy, but 0.93 is the minimum for a successful project submission. \n",
    "\n",
    "There are various aspects to consider when thinking about this problem:\n",
    "\n",
    "- Neural network architecture (is the network over or underfitting?)\n",
    "- Play around preprocessing techniques (normalization, rgb to grayscale, etc)\n",
    "- Number of examples per label (some have more than others).\n",
    "- Generate fake data.\n",
    "\n",
    "Here is an example of a [published baseline model on this problem](http://yann.lecun.com/exdb/publis/pdf/sermanet-ijcnn-11.pdf). It's not required to be familiar with the approach used in the paper but, it's good practice to try to read papers like these."
   ]
  },
  {
   "cell_type": "markdown",
   "metadata": {},
   "source": [
    "### Pre-process the Data Set (normalization, grayscale, etc.)"
   ]
  },
  {
   "cell_type": "markdown",
   "metadata": {},
   "source": [
    "Minimally, the image data should be normalized so that the data has mean zero and equal variance. For image data, `(pixel - 128)/ 128` is a quick way to approximately normalize the data and can be used in this project. \n",
    "\n",
    "Other pre-processing steps are optional. You can try different techniques to see if it improves performance. \n",
    "\n",
    "Use the code cell (or multiple code cells, if necessary) to implement the first step of your project."
   ]
  },
  {
   "cell_type": "code",
   "execution_count": 6,
   "metadata": {},
   "outputs": [],
   "source": [
    "### Preprocess the data here. It is required to normalize the data. Other preprocessing steps could include \n",
    "### converting to grayscale, etc.\n",
    "### Feel free to use as many code cells as needed.\n",
    "X_train=(X_train_orig-128.0)/128.0\n",
    "X_valid=(X_valid_orig-128.0)/128.0\n",
    "X_test=(X_test_orig-128.0)/128.0"
   ]
  },
  {
   "cell_type": "code",
   "execution_count": 7,
   "metadata": {},
   "outputs": [
    {
     "data": {
      "text/plain": [
       "dtype('float64')"
      ]
     },
     "execution_count": 7,
     "metadata": {},
     "output_type": "execute_result"
    }
   ],
   "source": [
    "X_train.dtype"
   ]
  },
  {
   "cell_type": "markdown",
   "metadata": {},
   "source": [
    "### Model Architecture"
   ]
  },
  {
   "cell_type": "code",
   "execution_count": 8,
   "metadata": {},
   "outputs": [],
   "source": [
    "### Define your architecture here.\n",
    "### Feel free to use as many code cells as needed.\n",
    "import tensorflow as tf\n",
    "tf.reset_default_graph()\n",
    "def lenet(img):\n",
    "    mu=0\n",
    "    sigma=0.1\n",
    "    wts_c1=tf.Variable(tf.truncated_normal(shape=(5,5,3,6),mean=mu,stddev=sigma))\n",
    "    bias_c1=tf.Variable(tf.zeros(6))\n",
    "    \n",
    "    wts_c2=tf.Variable(tf.truncated_normal(shape=(5,5,6,16),mean=mu,stddev=sigma))\n",
    "    bias_c2=tf.Variable(tf.zeros(16))\n",
    "    \n",
    "    wts_fc1=tf.Variable(tf.truncated_normal(shape=(5*5*16,300),mean=mu,stddev=sigma))\n",
    "    bias_fc1=tf.Variable(tf.zeros(300))\n",
    "\n",
    "    wts_fc2=tf.Variable(tf.truncated_normal(shape=(300,120),mean=mu,stddev=sigma))\n",
    "    bias_fc2=tf.Variable(tf.zeros(120))\n",
    "\n",
    "    wts_fc3=tf.Variable(tf.truncated_normal(shape=(120,43),mean=mu,stddev=sigma))\n",
    "    bias_fc3=tf.Variable(tf.zeros(43))\n",
    "\n",
    "    conv1=tf.nn.conv2d(img,wts_c1,strides=[1,1,1,1],padding='VALID')\n",
    "    conv1=tf.nn.bias_add(conv1,bias_c1)\n",
    "    conv1=tf.nn.relu(conv1)\n",
    "    maxpool_1=tf.nn.max_pool(conv1,ksize=[1,2,2,1],strides=[1,2,2,1],padding='VALID')\n",
    "    \n",
    "    conv2=tf.nn.conv2d(maxpool_1,wts_c2,strides=[1,1,1,1],padding='VALID')\n",
    "    conv2=tf.nn.bias_add(conv2,bias_c2)\n",
    "    conv2=tf.nn.relu(conv2)\n",
    "    maxpool_2=tf.nn.max_pool(conv2,ksize=[1,2,2,1],strides=[1,2,2,1],padding='VALID')\n",
    "   \n",
    "    fc1=tf.reshape(maxpool_2,[-1,wts_fc1.get_shape().as_list()[0]])\n",
    "    fc1=tf.matmul(fc1,wts_fc1)\n",
    "    fc1=tf.add(fc1,bias_fc1)\n",
    "    fc1=tf.nn.relu(fc1)\n",
    "    \n",
    "    fc2=tf.matmul(fc1,wts_fc2)\n",
    "    fc2=tf.add(fc2,bias_fc2)\n",
    "    fc2=tf.nn.relu(fc2)\n",
    "    fc2=tf.nn.dropout(fc2,keep_prob)\n",
    "    \n",
    "    fc3=tf.matmul(fc2,wts_fc3)\n",
    "    fc3=tf.add(fc3,bias_fc3)\n",
    "   # fc3=tf.nn.relu(fc3)\n",
    "    \n",
    "    return fc3\n"
   ]
  },
  {
   "cell_type": "markdown",
   "metadata": {},
   "source": [
    "### Evaluation function\n",
    "It finds average accuracy over X_data, averaging batch-wise"
   ]
  },
  {
   "cell_type": "code",
   "execution_count": 9,
   "metadata": {},
   "outputs": [],
   "source": [
    "def evaluate(X_data,y_data):\n",
    "    total_accuracy=0\n",
    "    sess=tf.get_default_session()\n",
    "    for offset in range(0,len(X_data),batch_size):\n",
    "        end=offset+batch_size\n",
    "        batch_x,batch_y=X_data[offset:end],y_data[offset:end]\n",
    "  \n",
    "        accuracy_batch=sess.run(accuracy,feed_dict={img:batch_x,label:batch_y,keep_prob:1})\n",
    "        total_accuracy=total_accuracy + accuracy_batch * len(batch_x)\n",
    "        \n",
    "    return total_accuracy/len(X_data)"
   ]
  },
  {
   "cell_type": "markdown",
   "metadata": {},
   "source": [
    "### Training parameters\n"
   ]
  },
  {
   "cell_type": "code",
   "execution_count": 10,
   "metadata": {},
   "outputs": [],
   "source": [
    "epochs=30\n",
    "batch_size=128\n",
    "learning_rate=0.0008"
   ]
  },
  {
   "cell_type": "markdown",
   "metadata": {},
   "source": [
    "### Defining the computation graph "
   ]
  },
  {
   "cell_type": "code",
   "execution_count": 11,
   "metadata": {},
   "outputs": [],
   "source": [
    "from sklearn.utils import shuffle\n",
    "\n",
    "img=tf.placeholder(tf.float32,(None,32,32,3),name=\"img\")\n",
    "label=tf.placeholder(tf.int32,(None),name=\"label\")\n",
    "keep_prob=tf.placeholder(tf.float32,name=\"keep_prob\")\n",
    "\n",
    "logits=lenet(img)\n",
    "one_hot_label= tf.one_hot(label,43)\n",
    "cost=tf.reduce_mean(tf.nn.softmax_cross_entropy_with_logits(logits=logits,labels=one_hot_label))\n",
    "optimizer=tf.train.AdamOptimizer(learning_rate=learning_rate).minimize(cost)\n",
    "\n",
    "correct_pred = tf.equal(tf.argmax(logits, 1), tf.argmax(one_hot_label, 1))\n",
    "accuracy = tf.reduce_mean(tf.cast(correct_pred, tf.float32))"
   ]
  },
  {
   "cell_type": "markdown",
   "metadata": {},
   "source": [
    "### Top k values"
   ]
  },
  {
   "cell_type": "code",
   "execution_count": 12,
   "metadata": {},
   "outputs": [],
   "source": [
    "softmax_operation=tf.nn.softmax(logits)\n",
    "top_k=tf.nn.top_k(softmax_operation,k=5)"
   ]
  },
  {
   "cell_type": "markdown",
   "metadata": {},
   "source": [
    "## Training the model: Session"
   ]
  },
  {
   "cell_type": "markdown",
   "metadata": {},
   "source": [
    "A validation set can be used to assess how well the model is performing. A low accuracy on the training and validation\n",
    "sets imply underfitting. A high accuracy on the training set but low accuracy on the validation set implies overfitting."
   ]
  },
  {
   "cell_type": "code",
   "execution_count": 13,
   "metadata": {},
   "outputs": [
    {
     "name": "stdout",
     "output_type": "stream",
     "text": [
      "Training...\n",
      "EPOCH 1 ...\n",
      "Validation Accuracy = 0.783\n",
      "Training Accuracy = 0.866\n",
      "--------------------------\n",
      "Training...\n",
      "EPOCH 2 ...\n",
      "Validation Accuracy = 0.885\n",
      "Training Accuracy = 0.950\n",
      "--------------------------\n",
      "Training...\n",
      "EPOCH 3 ...\n",
      "Validation Accuracy = 0.908\n",
      "Training Accuracy = 0.977\n",
      "--------------------------\n",
      "Training...\n",
      "EPOCH 4 ...\n",
      "Validation Accuracy = 0.920\n",
      "Training Accuracy = 0.981\n",
      "--------------------------\n",
      "Training...\n",
      "EPOCH 5 ...\n",
      "Validation Accuracy = 0.933\n",
      "Training Accuracy = 0.987\n",
      "--------------------------\n",
      "Training...\n",
      "EPOCH 6 ...\n",
      "Validation Accuracy = 0.925\n",
      "Training Accuracy = 0.990\n",
      "--------------------------\n",
      "Training...\n",
      "EPOCH 7 ...\n",
      "Validation Accuracy = 0.933\n",
      "Training Accuracy = 0.992\n",
      "--------------------------\n",
      "Training...\n",
      "EPOCH 8 ...\n",
      "Validation Accuracy = 0.934\n",
      "Training Accuracy = 0.994\n",
      "--------------------------\n",
      "Training...\n",
      "EPOCH 9 ...\n",
      "Validation Accuracy = 0.937\n",
      "Training Accuracy = 0.995\n",
      "--------------------------\n",
      "Training...\n",
      "EPOCH 10 ...\n",
      "Validation Accuracy = 0.936\n",
      "Training Accuracy = 0.996\n",
      "--------------------------\n",
      "Training...\n",
      "EPOCH 11 ...\n",
      "Validation Accuracy = 0.940\n",
      "Training Accuracy = 0.998\n",
      "--------------------------\n",
      "Training...\n",
      "EPOCH 12 ...\n",
      "Validation Accuracy = 0.946\n",
      "Training Accuracy = 0.998\n",
      "--------------------------\n",
      "Training...\n",
      "EPOCH 13 ...\n",
      "Validation Accuracy = 0.947\n",
      "Training Accuracy = 0.998\n",
      "--------------------------\n",
      "Training...\n",
      "EPOCH 14 ...\n",
      "Validation Accuracy = 0.942\n",
      "Training Accuracy = 0.998\n",
      "--------------------------\n",
      "Training...\n",
      "EPOCH 15 ...\n",
      "Validation Accuracy = 0.939\n",
      "Training Accuracy = 0.998\n",
      "--------------------------\n",
      "Training...\n",
      "EPOCH 16 ...\n",
      "Validation Accuracy = 0.944\n",
      "Training Accuracy = 0.999\n",
      "--------------------------\n",
      "Training...\n",
      "EPOCH 17 ...\n",
      "Validation Accuracy = 0.943\n",
      "Training Accuracy = 0.998\n",
      "--------------------------\n",
      "Training...\n",
      "EPOCH 18 ...\n",
      "Validation Accuracy = 0.949\n",
      "Training Accuracy = 0.999\n",
      "--------------------------\n",
      "Training...\n",
      "EPOCH 19 ...\n",
      "Validation Accuracy = 0.943\n",
      "Training Accuracy = 0.999\n",
      "--------------------------\n",
      "Training...\n",
      "EPOCH 20 ...\n",
      "Validation Accuracy = 0.946\n",
      "Training Accuracy = 0.999\n",
      "--------------------------\n",
      "Training...\n",
      "EPOCH 21 ...\n",
      "Validation Accuracy = 0.956\n",
      "Training Accuracy = 0.998\n",
      "--------------------------\n",
      "Training...\n",
      "EPOCH 22 ...\n",
      "Validation Accuracy = 0.944\n",
      "Training Accuracy = 0.998\n",
      "--------------------------\n",
      "Training...\n",
      "EPOCH 23 ...\n",
      "Validation Accuracy = 0.942\n",
      "Training Accuracy = 0.998\n",
      "--------------------------\n",
      "Training...\n",
      "EPOCH 24 ...\n",
      "Validation Accuracy = 0.951\n",
      "Training Accuracy = 0.999\n",
      "--------------------------\n",
      "Training...\n",
      "EPOCH 25 ...\n",
      "Validation Accuracy = 0.950\n",
      "Training Accuracy = 0.999\n",
      "--------------------------\n",
      "Training...\n",
      "EPOCH 26 ...\n",
      "Validation Accuracy = 0.955\n",
      "Training Accuracy = 0.999\n",
      "--------------------------\n",
      "Training...\n",
      "EPOCH 27 ...\n",
      "Validation Accuracy = 0.943\n",
      "Training Accuracy = 0.998\n",
      "--------------------------\n",
      "Training...\n",
      "EPOCH 28 ...\n",
      "Validation Accuracy = 0.955\n",
      "Training Accuracy = 1.000\n",
      "--------------------------\n",
      "Training...\n",
      "EPOCH 29 ...\n",
      "Validation Accuracy = 0.948\n",
      "Training Accuracy = 0.999\n",
      "--------------------------\n",
      "Training...\n",
      "EPOCH 30 ...\n",
      "Validation Accuracy = 0.964\n",
      "Training Accuracy = 1.000\n",
      "--------------------------\n"
     ]
    },
    {
     "data": {
      "image/png": "[encoded data removed]",
      "text/plain": [
       "<matplotlib.figure.Figure at 0x7fc6bc20e5c0>"
      ]
     },
     "metadata": {
      "needs_background": "light"
     },
     "output_type": "display_data"
    },
    {
     "data": {
      "image/png": "[encoded data removed]",
      "text/plain": [
       "<matplotlib.figure.Figure at 0x7fc6ba1164e0>"
      ]
     },
     "metadata": {
      "needs_background": "light"
     },
     "output_type": "display_data"
    }
   ],
   "source": [
    "valid_accuracy_history=[]\n",
    "train_accuracy_history=[]\n",
    "\n",
    "with tf.Session() as sess:\n",
    "    sess.run(tf.global_variables_initializer())\n",
    "    for epoch in range(epochs):\n",
    "        print(\"Training...\")\n",
    "        X_train,y_train=shuffle(X_train,y_train)\n",
    "        for batch in range(0,len(X_train),batch_size):\n",
    "            end=batch+batch_size\n",
    "            batch_x=X_train[batch:end]\n",
    "            batch_y=y_train[batch:end]\n",
    "            sess.run(optimizer,feed_dict={img:batch_x, label:batch_y,keep_prob:0.7})\n",
    "        \n",
    "        valid_acc=evaluate(X_valid,y_valid)\n",
    "        train_acc=evaluate(X_train,y_train)\n",
    "        valid_accuracy_history.append(valid_acc)\n",
    "        train_accuracy_history.append(train_acc)\n",
    "        print(\"EPOCH {} ...\".format(epoch+1))\n",
    "        print(\"Validation Accuracy = {:.3f}\".format(valid_acc))\n",
    "        print(\"Training Accuracy = {:.3f}\".format(train_acc))\n",
    "        print(\"--------------------------\")\n",
    "    saver=tf.train.Saver()\n",
    "    saver.save(sess,'lenet')\n",
    "    \n",
    "plt.plot(valid_accuracy_history)\n",
    "plt.title(\"Validation accuracy\")\n",
    "plt.show()\n",
    "plt.plot(train_accuracy_history)\n",
    "plt.title(\"Training accuracy\")\n",
    "plt.show()"
   ]
  },
  {
   "cell_type": "markdown",
   "metadata": {},
   "source": [
    "## Final accuracy of the model on testing set"
   ]
  },
  {
   "cell_type": "code",
   "execution_count": 14,
   "metadata": {},
   "outputs": [
    {
     "name": "stdout",
     "output_type": "stream",
     "text": [
      "INFO:tensorflow:Restoring parameters from ./lenet\n",
      "Testing accuracy is: 0.935391923802\n"
     ]
    }
   ],
   "source": [
    "with tf.Session() as sess:\n",
    "    loader=tf.train.import_meta_graph('./lenet.meta')\n",
    "    loader.restore(sess,'./lenet')\n",
    "    test_acc=evaluate(X_test,y_test)\n",
    "    \n",
    "    print(\"Testing accuracy is:\",test_acc)"
   ]
  },
  {
   "cell_type": "markdown",
   "metadata": {},
   "source": [
    "## Testing the model on new images"
   ]
  },
  {
   "cell_type": "markdown",
   "metadata": {},
   "source": [
    "### Loading additional images from the web"
   ]
  },
  {
   "cell_type": "code",
   "execution_count": 15,
   "metadata": {},
   "outputs": [],
   "source": [
    "filepaths=[]\n",
    "import glob\n",
    "for files in glob.glob('mysigns/*'):\n",
    "    filepaths.append(files)\n",
    "    \n",
    "import cv2\n",
    "images=[]\n",
    "for i in range(len(filepaths)):\n",
    "    img1=cv2.imread(filepaths[i])\n",
    "    img1=cv2.resize(img1,(32,32),cv2.INTER_LINEAR)\n",
    "    img1=cv2.cvtColor(img1,cv2.COLOR_BGR2RGB)\n",
    "    images.append(img1)\n",
    "images=np.array(images)"
   ]
  },
  {
   "cell_type": "code",
   "execution_count": 16,
   "metadata": {},
   "outputs": [
    {
     "data": {
      "text/plain": [
       "['mysigns/30limit.PNG',\n",
       " 'mysigns/100limit.PNG',\n",
       " 'mysigns/yield.PNG',\n",
       " 'mysigns/stop.PNG',\n",
       " 'mysigns/nopassing.PNG',\n",
       " 'mysigns/keepright.PNG',\n",
       " 'mysigns/noentry.PNG',\n",
       " 'mysigns/priorityroad.PNG']"
      ]
     },
     "execution_count": 16,
     "metadata": {},
     "output_type": "execute_result"
    }
   ],
   "source": [
    "filepaths"
   ]
  },
  {
   "cell_type": "code",
   "execution_count": 17,
   "metadata": {},
   "outputs": [],
   "source": [
    "## Creating true-labels array according to file paths\n",
    "true_values_dict={'mysigns/nopassing.PNG':9, 'mysigns/yield.PNG':13, 'mysigns/noentry.PNG':17, 'mysigns/stop.PNG':14, \n",
    "             'mysigns/100limit.PNG':7, 'mysigns/keepright.PNG':38, 'mysigns/30limit.PNG':1, 'mysigns/priorityroad.PNG':12}\n",
    "true_values=[]\n",
    "for path in filepaths:\n",
    "    true_values.append(true_values_dict[path])"
   ]
  },
  {
   "cell_type": "code",
   "execution_count": 18,
   "metadata": {},
   "outputs": [],
   "source": [
    "## Preprocessing additional images, as it was done for X_train as well\n",
    "images_norm=(images-128.0)/128.0"
   ]
  },
  {
   "cell_type": "markdown",
   "metadata": {},
   "source": [
    "### Displaying new images"
   ]
  },
  {
   "cell_type": "code",
   "execution_count": 21,
   "metadata": {},
   "outputs": [
    {
     "data": {
      "image/png": "[encoded data removed]",
      "text/plain": [
       "<matplotlib.figure.Figure at 0x7fc673677ba8>"
      ]
     },
     "metadata": {
      "needs_background": "light"
     },
     "output_type": "display_data"
    }
   ],
   "source": [
    "fig,ax=plt.subplots(4,2)\n",
    "figcount=0\n",
    "for i in range(0,4):\n",
    "    for j in range(0,2):\n",
    "        ax[i,j].imshow(images[figcount])\n",
    "        ax[i,j].set_title(filepaths[figcount][8:-4])\n",
    "        ax[i,j].axis(\"off\")\n",
    "        figcount+=1"
   ]
  },
  {
   "cell_type": "markdown",
   "metadata": {},
   "source": [
    "### Evaluating model performance on new images"
   ]
  },
  {
   "cell_type": "code",
   "execution_count": 22,
   "metadata": {},
   "outputs": [
    {
     "name": "stdout",
     "output_type": "stream",
     "text": [
      "INFO:tensorflow:Restoring parameters from ./lenet\n",
      "Predicted labels are:  [32  8 13 14 41 38 17 12]\n",
      "Actual labels are:    [1, 7, 13, 14, 9, 38, 17, 12]\n",
      "Accuracy of identifying web images is: 62.5%\n"
     ]
    }
   ],
   "source": [
    "with tf.Session() as sess:\n",
    "    loader=tf.train.import_meta_graph('./lenet.meta')\n",
    "    loader.restore(sess,'./lenet')\n",
    "    tops=sess.run(top_k,feed_dict={img:images_norm,keep_prob:1})\n",
    "    predictions=tops[1]\n",
    "    confidence=tops[0]*100\n",
    "    \n",
    "    acc=np.sum(predictions[:,0]==true_values)/len(predictions)\n",
    "    print(\"Predicted labels are: \",predictions[:,0])\n",
    "    print(\"Actual labels are:   \",true_values)\n",
    "    print(\"Accuracy of identifying web images is: {}%\".format(acc*100))"
   ]
  },
  {
   "cell_type": "markdown",
   "metadata": {},
   "source": [
    "### Visualizing actual images against predicted images"
   ]
  },
  {
   "cell_type": "code",
   "execution_count": 23,
   "metadata": {},
   "outputs": [
    {
     "data": {
      "image/png": "[encoded data removed]",
      "text/plain": [
       "<matplotlib.figure.Figure at 0x7fc6a4078588>"
      ]
     },
     "metadata": {
      "needs_background": "light"
     },
     "output_type": "display_data"
    }
   ],
   "source": [
    "figcount=1\n",
    "predictions_first=predictions[:,0]\n",
    "confidence_first= confidence[:,0]\n",
    "f=plt.figure(figsize=(20,20))\n",
    "\n",
    "\n",
    "for i in range(len(images)):\n",
    "    ax=f.add_subplot(8,2,figcount)\n",
    "    ax.title.set_text(\"Input image\")\n",
    "    ax.axis(\"off\")\n",
    "    figcount+=1\n",
    "    ax.imshow(images[i])\n",
    "    ax1=f.add_subplot(8,2,figcount)\n",
    "    ax1.title.set_text(\"Confidence: {:.3f}%\".format(confidence_first[i]))\n",
    "    ax1.axis(\"off\")\n",
    "    figcount+=1\n",
    "    ax1.imshow(X_train_orig[np.where(y_train_orig==predictions_first[i])[0][0]])\n",
    "plt.show()"
   ]
  },
  {
   "cell_type": "code",
   "execution_count": 27,
   "metadata": {},
   "outputs": [
    {
     "data": {
      "text/html": [
       "<div>\n",
       "<style scoped>\n",
       "    .dataframe tbody tr th:only-of-type {\n",
       "        vertical-align: middle;\n",
       "    }\n",
       "\n",
       "    .dataframe tbody tr th {\n",
       "        vertical-align: top;\n",
       "    }\n",
       "\n",
       "    .dataframe thead th {\n",
       "        text-align: right;\n",
       "    }\n",
       "</style>\n",
       "<table border=\"1\" class=\"dataframe\">\n",
       "  <thead>\n",
       "    <tr style=\"text-align: right;\">\n",
       "      <th></th>\n",
       "      <th>ClassId</th>\n",
       "      <th>SignName</th>\n",
       "    </tr>\n",
       "  </thead>\n",
       "  <tbody>\n",
       "    <tr>\n",
       "      <th>8</th>\n",
       "      <td>8</td>\n",
       "      <td>Speed limit (120km/h)</td>\n",
       "    </tr>\n",
       "  </tbody>\n",
       "</table>\n",
       "</div>"
      ],
      "text/plain": [
       "   ClassId               SignName\n",
       "8        8  Speed limit (120km/h)"
      ]
     },
     "execution_count": 27,
     "metadata": {},
     "output_type": "execute_result"
    }
   ],
   "source": [
    "signnames[signnames['ClassId']==8]"
   ]
  },
  {
   "cell_type": "markdown",
   "metadata": {},
   "source": [
    "### Top 5 Softmax Probabilities For Each Image Found on the Web"
   ]
  },
  {
   "cell_type": "code",
   "execution_count": 28,
   "metadata": {},
   "outputs": [],
   "source": [
    "num2word={1:\"first\",2:\"second\",3:\"third\",4:\"fourth\",5:\"fifth\",6:\"sixth\",7:\"seventh\",8:\"eighth\"}"
   ]
  },
  {
   "cell_type": "code",
   "execution_count": 30,
   "metadata": {},
   "outputs": [
    {
     "name": "stdout",
     "output_type": "stream",
     "text": [
      "Top 5 predictions for first image were: [32  1  6 38 40]\n",
      "Probabilities for these labels were:[  7.53574829e+01   2.34733829e+01   1.16776288e+00   1.14168832e-03\n",
      "   2.26492892e-04]\n",
      "The correct label is: 1\n",
      "\n",
      "Top 5 predictions for second image were: [ 8 15  5  4  0]\n",
      "Probabilities for these labels were:[  9.99999313e+01   7.49225510e-05   7.37143523e-07   2.17343188e-09\n",
      "   6.54945878e-13]\n",
      "The correct label is: 7\n",
      "\n",
      "Top 5 predictions for third image were: [13  9 35 17 12]\n",
      "Probabilities for these labels were:[  1.00000000e+02   5.23150464e-25   6.55640900e-29   6.26564745e-30\n",
      "   3.35805763e-32]\n",
      "The correct label is: 13\n",
      "\n",
      "Top 5 predictions for fourth image were: [14 17  1 29  3]\n",
      "Probabilities for these labels were:[  8.57791672e+01   1.42207842e+01   4.94414744e-05   3.45263367e-11\n",
      "   8.76942290e-13]\n",
      "The correct label is: 14\n",
      "\n",
      "Top 5 predictions for fifth image were: [41  9 16 12 20]\n",
      "Probabilities for these labels were:[  9.99994736e+01   5.25224896e-04   4.04457029e-21   8.01863857e-24\n",
      "   3.79629795e-25]\n",
      "The correct label is: 9\n",
      "\n",
      "Top 5 predictions for sixth image were: [38  0  1  2  3]\n",
      "Probabilities for these labels were:[ 100.    0.    0.    0.    0.]\n",
      "The correct label is: 38\n",
      "\n",
      "Top 5 predictions for seventh image were: [17 14  0  1  9]\n",
      "Probabilities for these labels were:[  1.00000000e+02   2.83513355e-25   2.75253076e-26   1.31376907e-27\n",
      "   4.00117513e-30]\n",
      "The correct label is: 17\n",
      "\n",
      "Top 5 predictions for eighth image were: [12 32 13 14  9]\n",
      "Probabilities for these labels were:[  1.00000000e+02   4.96352095e-06   2.32527171e-07   5.90824456e-08\n",
      "   1.79625231e-10]\n",
      "The correct label is: 12\n",
      "\n"
     ]
    }
   ],
   "source": [
    "for i in range(len(true_values)):\n",
    "    print(\"Top 5 predictions for {} image were: {}\".format(num2word[i+1],predictions[i]))\n",
    "    print(\"Probabilities for these labels were:{}\".format(confidence[i]))\n",
    "    print(\"The correct label is:\", true_values[i])\n",
    "    print()"
   ]
  },
  {
   "cell_type": "markdown",
   "metadata": {},
   "source": [
    "For each of the new images, print out the model's softmax probabilities to show the **certainty** of the model's predictions (limit the output to the top 5 probabilities for each image). [`tf.nn.top_k`](https://www.tensorflow.org/versions/r0.12/api_docs/python/nn.html#top_k) could prove helpful here. \n",
    "\n",
    "The example below demonstrates how tf.nn.top_k can be used to find the top k predictions for each image.\n",
    "\n",
    "`tf.nn.top_k` will return the values and indices (class ids) of the top k predictions. So if k=3, for each sign, it'll return the 3 largest probabilities (out of a possible 43) and the correspoding class ids.\n",
    "\n",
    "Take this numpy array as an example. The values in the array represent predictions. The array contains softmax probabilities for five candidate images with six possible classes. `tf.nn.top_k` is used to choose the three classes with the highest probability:\n",
    "\n",
    "```\n",
    "# (5, 6) array\n",
    "a = np.array([[ 0.24879643,  0.07032244,  0.12641572,  0.34763842,  0.07893497,\n",
    "         0.12789202],\n",
    "       [ 0.28086119,  0.27569815,  0.08594638,  0.0178669 ,  0.18063401,\n",
    "         0.15899337],\n",
    "       [ 0.26076848,  0.23664738,  0.08020603,  0.07001922,  0.1134371 ,\n",
    "         0.23892179],\n",
    "       [ 0.11943333,  0.29198961,  0.02605103,  0.26234032,  0.1351348 ,\n",
    "         0.16505091],\n",
    "       [ 0.09561176,  0.34396535,  0.0643941 ,  0.16240774,  0.24206137,\n",
    "         0.09155967]])\n",
    "```\n",
    "\n",
    "Running it through `sess.run(tf.nn.top_k(tf.constant(a), k=3))` produces:\n",
    "\n",
    "```\n",
    "TopKV2(values=array([[ 0.34763842,  0.24879643,  0.12789202],\n",
    "       [ 0.28086119,  0.27569815,  0.18063401],\n",
    "       [ 0.26076848,  0.23892179,  0.23664738],\n",
    "       [ 0.29198961,  0.26234032,  0.16505091],\n",
    "       [ 0.34396535,  0.24206137,  0.16240774]]), indices=array([[3, 0, 5],\n",
    "       [0, 1, 4],\n",
    "       [0, 5, 1],\n",
    "       [1, 3, 5],\n",
    "       [1, 4, 3]], dtype=int32))\n",
    "```\n",
    "\n",
    "Looking just at the first row we get `[ 0.34763842,  0.24879643,  0.12789202]`, you can confirm these are the 3 largest probabilities in `a`. You'll also notice `[3, 0, 5]` are the corresponding indices."
   ]
  },
  {
   "cell_type": "code",
   "execution_count": null,
   "metadata": {},
   "outputs": [],
   "source": [
    "### Print out the top five softmax probabilities for the predictions on the German traffic sign images found on the web. \n",
    "### Feel free to use as many code cells as needed."
   ]
  },
  {
   "cell_type": "markdown",
   "metadata": {},
   "source": [
    "### Project Writeup\n",
    "\n",
    "Once you have completed the code implementation, document your results in a project writeup using this [template](https://github.com/udacity/CarND-Traffic-Sign-Classifier-Project/blob/master/writeup_template.md) as a guide. The writeup can be in a markdown or pdf file. "
   ]
  },
  {
   "cell_type": "markdown",
   "metadata": {},
   "source": [
    "> **Note**: Once you have completed all of the code implementations and successfully answered each question above, you may finalize your work by exporting the iPython Notebook as an HTML document. You can do this by using the menu above and navigating to  \\n\",\n",
    "    \"**File -> Download as -> HTML (.html)**. Include the finished document along with this notebook as your submission."
   ]
  },
  {
   "cell_type": "markdown",
   "metadata": {},
   "source": [
    "---\n",
    "\n",
    "## Step 4 (Optional): Visualize the Neural Network's State with Test Images\n",
    "\n",
    " This Section is not required to complete but acts as an additional excersise for understaning the output of a neural network's weights. While neural networks can be a great learning device they are often referred to as a black box. We can understand what the weights of a neural network look like better by plotting their feature maps. After successfully training your neural network you can see what it's feature maps look like by plotting the output of the network's weight layers in response to a test stimuli image. From these plotted feature maps, it's possible to see what characteristics of an image the network finds interesting. For a sign, maybe the inner network feature maps react with high activation to the sign's boundary outline or to the contrast in the sign's painted symbol.\n",
    "\n",
    " Provided for you below is the function code that allows you to get the visualization output of any tensorflow weight layer you want. The inputs to the function should be a stimuli image, one used during training or a new one you provided, and then the tensorflow variable name that represents the layer's state during the training process, for instance if you wanted to see what the [LeNet lab's](https://classroom.udacity.com/nanodegrees/nd013/parts/fbf77062-5703-404e-b60c-95b78b2f3f9e/modules/6df7ae49-c61c-4bb2-a23e-6527e69209ec/lessons/601ae704-1035-4287-8b11-e2c2716217ad/concepts/d4aca031-508f-4e0b-b493-e7b706120f81) feature maps looked like for it's second convolutional layer you could enter conv2 as the tf_activation variable.\n",
    "\n",
    "For an example of what feature map outputs look like, check out NVIDIA's results in their paper [End-to-End Deep Learning for Self-Driving Cars](https://devblogs.nvidia.com/parallelforall/deep-learning-self-driving-cars/) in the section Visualization of internal CNN State. NVIDIA was able to show that their network's inner weights had high activations to road boundary lines by comparing feature maps from an image with a clear path to one without. Try experimenting with a similar test to show that your trained network's weights are looking for interesting features, whether it's looking at differences in feature maps from images with or without a sign, or even what feature maps look like in a trained network vs a completely untrained one on the same sign image.\n",
    "\n",
    "<figure>\n",
    " <img src=\"visualize_cnn.png\" width=\"380\" alt=\"Combined Image\" />\n",
    " <figcaption>\n",
    " <p></p> \n",
    " <p style=\"text-align: center;\"> Your output should look something like this (above)</p> \n",
    " </figcaption>\n",
    "</figure>\n",
    " <p></p> \n"
   ]
  },
  {
   "cell_type": "code",
   "execution_count": null,
   "metadata": {},
   "outputs": [],
   "source": [
    "### Visualize your network's feature maps here.\n",
    "### Feel free to use as many code cells as needed.\n",
    "\n",
    "# image_input: the test image being fed into the network to produce the feature maps\n",
    "# tf_activation: should be a tf variable name used during your training procedure that represents the calculated state of a specific weight layer\n",
    "# activation_min/max: can be used to view the activation contrast in more detail, by default matplot sets min and max to the actual min and max values of the output\n",
    "# plt_num: used to plot out multiple different weight feature map sets on the same block, just extend the plt number for each new feature map entry\n",
    "\n",
    "def outputFeatureMap(image_input, tf_activation, activation_min=-1, activation_max=-1 ,plt_num=1):\n",
    "    # Here make sure to preprocess your image_input in a way your network expects\n",
    "    # with size, normalization, ect if needed\n",
    "    # image_input =\n",
    "    # Note: x should be the same name as your network's tensorflow data placeholder variable\n",
    "    # If you get an error tf_activation is not defined it may be having trouble accessing the variable from inside a function\n",
    "    activation = tf_activation.eval(session=sess,feed_dict={x : image_input})\n",
    "    featuremaps = activation.shape[3]\n",
    "    plt.figure(plt_num, figsize=(15,15))\n",
    "    for featuremap in range(featuremaps):\n",
    "        plt.subplot(6,8, featuremap+1) # sets the number of feature maps to show on each row and column\n",
    "        plt.title('FeatureMap ' + str(featuremap)) # displays the feature map number\n",
    "        if activation_min != -1 & activation_max != -1:\n",
    "            plt.imshow(activation[0,:,:, featuremap], interpolation=\"nearest\", vmin =activation_min, vmax=activation_max, cmap=\"gray\")\n",
    "        elif activation_max != -1:\n",
    "            plt.imshow(activation[0,:,:, featuremap], interpolation=\"nearest\", vmax=activation_max, cmap=\"gray\")\n",
    "        elif activation_min !=-1:\n",
    "            plt.imshow(activation[0,:,:, featuremap], interpolation=\"nearest\", vmin=activation_min, cmap=\"gray\")\n",
    "        else:\n",
    "            plt.imshow(activation[0,:,:, featuremap], interpolation=\"nearest\", cmap=\"gray\")"
   ]
  }
 ],
 "metadata": {
  "anaconda-cloud": {},
  "kernelspec": {
   "display_name": "Python 3",
   "language": "python",
   "name": "python3"
  },
  "language_info": {
   "codemirror_mode": {
    "name": "ipython",
    "version": 3
   },
   "file_extension": ".py",
   "mimetype": "text/x-python",
   "name": "python",
   "nbconvert_exporter": "python",
   "pygments_lexer": "ipython3",
   "version": "3.6.3"
  }
 },
 "nbformat": 4,
 "nbformat_minor": 1
}
